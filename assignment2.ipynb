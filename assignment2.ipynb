{
  "nbformat": 4,
  "nbformat_minor": 0,
  "metadata": {
    "colab": {
      "name": "assignment2.ipynb",
      "provenance": [],
      "collapsed_sections": [],
      "authorship_tag": "ABX9TyMlwy7TvDPOaO5VGlP7xljm",
      "include_colab_link": true
    },
    "kernelspec": {
      "name": "python3",
      "display_name": "Python 3"
    }
  },
  "cells": [
    {
      "cell_type": "markdown",
      "metadata": {
        "id": "view-in-github",
        "colab_type": "text"
      },
      "source": [
        "<a href=\"https://colab.research.google.com/github/joshitha12/python/blob/master/assignment2.ipynb\" target=\"_parent\"><img src=\"https://colab.research.google.com/assets/colab-badge.svg\" alt=\"Open In Colab\"/></a>"
      ]
    },
    {
      "cell_type": "code",
      "metadata": {
        "id": "DI8yhUcBi46t",
        "colab_type": "code",
        "colab": {
          "base_uri": "https://localhost:8080/",
          "height": 104
        },
        "outputId": "d03bb01f-8989-4d23-e1b9-215ac83cd8c8"
      },
      "source": [
        "#1\n",
        "a=int(input(\"enter a\"))\n",
        "b=int(input(\"enter b\"))\n",
        "c=int(input(\"enter c\"))\n",
        "s=(a+b+c)/2\n",
        "print(s)\n",
        "A=(s*(s-a)*(s-b)*(s-c))**(1/2)\n",
        "print(A)"
      ],
      "execution_count": null,
      "outputs": [
        {
          "output_type": "stream",
          "text": [
            "enter a3\n",
            "enter b4\n",
            "enter c5\n",
            "6.0\n",
            "6.0\n"
          ],
          "name": "stdout"
        }
      ]
    },
    {
      "cell_type": "code",
      "metadata": {
        "id": "GXcqprSvi8sJ",
        "colab_type": "code",
        "colab": {
          "base_uri": "https://localhost:8080/",
          "height": 52
        },
        "outputId": "103956b8-1d4d-41e6-a040-7e39ddfbd5ae"
      },
      "source": [
        "#2\n",
        "str=input(\"enter a string\")\n",
        "def reverse(x):\n",
        "  return x[::-1]\n",
        "str1=reverse(str)\n",
        "#print(str1)\n",
        "if str1==str :\n",
        "  print(\"palindrome\")\n",
        "else:\n",
        "  print(\"not a palindrome\")"
      ],
      "execution_count": null,
      "outputs": [
        {
          "output_type": "stream",
          "text": [
            "enter a stringmalayalam\n",
            "palindrome\n"
          ],
          "name": "stdout"
        }
      ]
    },
    {
      "cell_type": "code",
      "metadata": {
        "id": "TAaGoDbnl08n",
        "colab_type": "code",
        "colab": {
          "base_uri": "https://localhost:8080/",
          "height": 52
        },
        "outputId": "10e9b8fe-3904-41de-fc5f-314554dc0385"
      },
      "source": [
        "#3\n",
        "year=int(input(\"enter year\"))\n",
        "x=year%4\n",
        "if x==0:\n",
        "  print(\"leap year\")\n",
        "else:\n",
        "  print(\"not a leap year\")"
      ],
      "execution_count": null,
      "outputs": [
        {
          "output_type": "stream",
          "text": [
            "enter year2012\n",
            "leap year\n"
          ],
          "name": "stdout"
        }
      ]
    },
    {
      "cell_type": "code",
      "metadata": {
        "id": "n0j5fxE-mXnb",
        "colab_type": "code",
        "colab": {
          "base_uri": "https://localhost:8080/",
          "height": 52
        },
        "outputId": "9292f8f7-3f4e-475b-f5cd-ffb5e0b7bdce"
      },
      "source": [
        "#4\n",
        "str=input(\"enter a string\")\n",
        "str1=''\n",
        "for i in str:\n",
        "  if i==\" \":\n",
        "    str1=str1+'-'\n",
        "  else:\n",
        "    str1=str1+i\n",
        "print(str1)"
      ],
      "execution_count": null,
      "outputs": [
        {
          "output_type": "stream",
          "text": [
            "enter a stringthis program to convert spaces to hyphen\n",
            "this-program-to-convert-spaces-to-hyphen\n"
          ],
          "name": "stdout"
        }
      ]
    },
    {
      "cell_type": "code",
      "metadata": {
        "id": "3CFxg8d6oA2B",
        "colab_type": "code",
        "colab": {
          "base_uri": "https://localhost:8080/",
          "height": 52
        },
        "outputId": "7ba955d6-1e29-4c26-f529-eff0b76d19fb"
      },
      "source": [
        "#5\n",
        "s=input(\"enter a string \")\n",
        "words=s.split(\",\")\n",
        "s1=list(set(words))\n",
        "s1.sort()\n",
        "s2=\",\".join(s1)\n",
        "print(s2)\n"
      ],
      "execution_count": null,
      "outputs": [
        {
          "output_type": "stream",
          "text": [
            "enter a string orange, white, red, cyan, green, magenta, cyan, pink, white\n",
            " cyan, green, magenta, pink, red, white,orange\n"
          ],
          "name": "stdout"
        }
      ]
    },
    {
      "cell_type": "code",
      "metadata": {
        "id": "Lxj84H0yM7c1",
        "colab_type": "code",
        "colab": {
          "base_uri": "https://localhost:8080/",
          "height": 50
        },
        "outputId": "86ad0ebd-0538-4c8f-dd96-6037fe92b070"
      },
      "source": [
        "#6\n",
        "monthly_salary=int(input(\"enter your monthly salary\"))\n",
        "if monthly_salary<=250000:\n",
        "  tax_rate=0\n",
        "  salary=monthly_salary\n",
        "elif monthly_salary>250000 and monthly_salary<=500000:\n",
        "  tax_rate=0.05\n",
        "  salary=monthly_salary-(monthly_salary*tax_rate)\n",
        "  #print(salary)\n",
        "elif monthly_salary>500000 and monthly_salary<=750000:\n",
        "  tax_rate=0.10\n",
        "  salary=monthly_salary-(monthly_salary*tax_rate)\n",
        "  #print(salary)\n",
        "elif monthly_salary>750000 and monthly_salary<=1000000:\n",
        "  tax_rate=0.15\n",
        "  salary=monthly_salary-(monthly_salary*tax_rate)\n",
        "  #print(salary)\n",
        "elif monthly_salary>1000000 and monthly_salary<=1250000:\n",
        "  tax_rate=0.20\n",
        "  salary=monthly_salary-(monthly_salary*tax_rate)\n",
        "elif monthly_salary>125000 and monthly_salary<=1500000:\n",
        "  tax_rate=0.25\n",
        "  salary=monthly_salary-(monthly_salary*tax_rate)\n",
        "else:\n",
        "  tax_rate=0.30\n",
        "  salary=monthly_salary-(monthly_salary*tax_rate)\n",
        "print(salary)"
      ],
      "execution_count": 12,
      "outputs": [
        {
          "output_type": "stream",
          "text": [
            "enter your monthly salary6000000\n",
            "4200000.0\n"
          ],
          "name": "stdout"
        }
      ]
    },
    {
      "cell_type": "code",
      "metadata": {
        "id": "7xPa5yPlr77l",
        "colab_type": "code",
        "colab": {
          "base_uri": "https://localhost:8080/",
          "height": 70
        },
        "outputId": "4fea9c3c-3d87-4c7c-a3ca-2b8b7bedd596"
      },
      "source": [
        "#7\n",
        "#list=[11,33,50]\n",
        "# taking list as input from user\n",
        "list=input(\"enter a list of numbers seperated by spaces\")\n",
        "userlist=list.split()\n",
        "#print(userlist)\n",
        "l=\"\".join(map(str,userlist))\n",
        "print(int(l))\n"
      ],
      "execution_count": null,
      "outputs": [
        {
          "output_type": "stream",
          "text": [
            "enter a list of numbers seperated by spaces11 33 50\n",
            "['11', '33', '50']\n",
            "113350\n"
          ],
          "name": "stdout"
        }
      ]
    },
    {
      "cell_type": "code",
      "metadata": {
        "id": "oZeLKZTXQJ9L",
        "colab_type": "code",
        "colab": {
          "base_uri": "https://localhost:8080/",
          "height": 88
        },
        "outputId": "2b1dca77-3e6f-45eb-930f-2a0cefcce4a9"
      },
      "source": [
        "#8\n",
        "duration=input(\"enter duration in dd:hh:mm:ss\")\n",
        "l=duration.split(\":\")\n",
        "#print(l)\n",
        "#by using list comprehension\n",
        "d=[int(num) for num in l]\n",
        "#print(d)\n",
        "total_seconds=d[0]*24*60*60+d[1]*60*60+d[2]*60+d[3]\n",
        "print(total_seconds)"
      ],
      "execution_count": null,
      "outputs": [
        {
          "output_type": "stream",
          "text": [
            "enter time in dd:hh:mm:ss12:15:25:56\n",
            "['12', '15', '25', '56']\n",
            "[12, 15, 25, 56]\n",
            "1092356\n"
          ],
          "name": "stdout"
        }
      ]
    },
    {
      "cell_type": "code",
      "metadata": {
        "id": "jBxEQx6PkuCL",
        "colab_type": "code",
        "colab": {
          "base_uri": "https://localhost:8080/",
          "height": 88
        },
        "outputId": "7408efb3-0763-4213-b743-c2c4bc855d5a"
      },
      "source": [
        "#9\n",
        "a=int(input(\"enter a\"))\n",
        "b=int(input(\"enter b\"))\n",
        "c=int(input(\"enter c\"))\n",
        "A=min(a,b,c)\n",
        "C=max(a,b,c)\n",
        "B=(a+b+c)-A-C \n",
        "print(A,B,C)\n",
        "\n"
      ],
      "execution_count": null,
      "outputs": [
        {
          "output_type": "stream",
          "text": [
            "enter a8\n",
            "enter b5\n",
            "enter c9\n",
            "5 8 9\n"
          ],
          "name": "stdout"
        }
      ]
    },
    {
      "cell_type": "code",
      "metadata": {
        "id": "z8bPwlo8se_5",
        "colab_type": "code",
        "colab": {
          "base_uri": "https://localhost:8080/",
          "height": 52
        },
        "outputId": "e2ec53e2-0c7e-4915-816a-4019da1e7f05"
      },
      "source": [
        "#10\n",
        "date=input(\"enter date in format YYYY-MM-DD \")\n",
        "date=date.replace(\"-\",\" \")\n",
        "date=date.split(\" \") #splitting into list of strings -----['YYYY','MM','DD']\n",
        "D=[int(num) for num in date] #converting each element of list to int\n",
        "if D[1] in (1,3,5,7,8,10,12):\n",
        "  month_days=31\n",
        "elif D[1]==2:\n",
        "  if D[0]%4==0:\n",
        "    month_days=29\n",
        "  else:\n",
        "    month_days=28\n",
        "else:\n",
        "  month_days=30\n",
        "if D[2]<month_days:\n",
        "  D[2]+=1\n",
        "else:\n",
        "  D[2]=1\n",
        "  if D[1]==12:\n",
        "    D[1]=1\n",
        "    D[0]+=1\n",
        "  else:\n",
        "    D[1]+=1\n",
        "D=[str(num) for num in D] #converting int of list to str  \n",
        "D=\",\".join(D)             #converting list to str\n",
        "print(D.replace(\",\",\"-\")) \n"
      ],
      "execution_count": null,
      "outputs": [
        {
          "output_type": "stream",
          "text": [
            "enter date in format YYYY-MM-DD 2020-12-31\n",
            "2021-1-1\n"
          ],
          "name": "stdout"
        }
      ]
    },
    {
      "cell_type": "code",
      "metadata": {
        "id": "GL-9_CZ2CxVF",
        "colab_type": "code",
        "colab": {
          "base_uri": "https://localhost:8080/",
          "height": 35
        },
        "outputId": "5d30fb0d-9db8-4720-b365-f3bd3e429218"
      },
      "source": [
        "#11\n",
        "list=[45,3,2,89,72,1,10,7]\n",
        "product=1\n",
        "for i in list:\n",
        "  product=product*i\n",
        "print(product)"
      ],
      "execution_count": null,
      "outputs": [
        {
          "output_type": "stream",
          "text": [
            "121111200\n"
          ],
          "name": "stdout"
        }
      ]
    },
    {
      "cell_type": "code",
      "metadata": {
        "id": "zDwn8hWjEG25",
        "colab_type": "code",
        "colab": {
          "base_uri": "https://localhost:8080/",
          "height": 35
        },
        "outputId": "98a3cba9-77ff-45f7-e853-c5c6c4a18f63"
      },
      "source": [
        "#12\n",
        "num_list=[5,6,8,34,89,1]\n",
        "new_list=[]\n",
        "for i in range(len(num_list)-1):\n",
        "  s =num_list[i]+num_list[i+1]\n",
        "  #new_list.append(s)\n",
        "  new_list.insert(i,s)\n",
        "print(new_list)\n",
        "  "
      ],
      "execution_count": null,
      "outputs": [
        {
          "output_type": "stream",
          "text": [
            "[11, 14, 42, 123, 90]\n"
          ],
          "name": "stdout"
        }
      ]
    },
    {
      "cell_type": "code",
      "metadata": {
        "id": "MUs0Tsri0RxX",
        "colab_type": "code",
        "colab": {
          "base_uri": "https://localhost:8080/",
          "height": 33
        },
        "outputId": "3438c132-5a29-48f9-d459-68c47e76b2de"
      },
      "source": [
        "#13\n",
        "num_tuple=(5,6,8,3,9,1)\n",
        "m=1\n",
        "out_list=[]\n",
        "num_list=list(num_tuple)\n",
        "#print(type(num_list))\n",
        "for i in range(len(num_list)) :\n",
        "  m=m*num_list[i]\n",
        "  out_list.append(m)\n",
        "out_tuple=tuple(out_list)\n",
        "print(out_tuple)\n",
        "  \n"
      ],
      "execution_count": 10,
      "outputs": [
        {
          "output_type": "stream",
          "text": [
            "(5, 30, 240, 720, 6480, 6480)\n"
          ],
          "name": "stdout"
        }
      ]
    },
    {
      "cell_type": "code",
      "metadata": {
        "id": "K_odG-fsLCVg",
        "colab_type": "code",
        "colab": {
          "base_uri": "https://localhost:8080/",
          "height": 33
        },
        "outputId": "32610598-8a9d-40ff-b795-34d609390186"
      },
      "source": [
        "#13\n",
        "num_tuple=(5,6,8,3,9,1)\n",
        "m=1\n",
        "out_list=[]\n",
        "num_list=list(num_tuple)\n",
        "#print(type(num_list))\n",
        "for i in range(len(num_list)) :\n",
        "  m=m*num_list[i]\n",
        "  out_list.append(m)\n",
        "out_tuple=tuple(out_list)\n",
        "print(out_tuple)"
      ],
      "execution_count": 11,
      "outputs": [
        {
          "output_type": "stream",
          "text": [
            "(5, 30, 240, 720, 6480, 6480)\n"
          ],
          "name": "stdout"
        }
      ]
    },
    {
      "cell_type": "code",
      "metadata": {
        "id": "DTwO3sXq-x0Z",
        "colab_type": "code",
        "colab": {
          "base_uri": "https://localhost:8080/",
          "height": 52
        },
        "outputId": "4acfed60-92cc-4de2-e5b7-fd2656391add"
      },
      "source": [
        "#14\n",
        "num=int(input(\"enter a num\"))\n",
        "l=[]\n",
        "r=0\n",
        "while(num):\n",
        "  r=int(num%10)\n",
        "  l.append(r)\n",
        "  count+=1\n",
        "  num=int(num/10)\n",
        "l.reverse()\n",
        "print(l)  \n",
        "\n",
        "\n"
      ],
      "execution_count": null,
      "outputs": [
        {
          "output_type": "stream",
          "text": [
            "enter a num586392\n",
            "[5, 8, 6, 3, 9, 2]\n"
          ],
          "name": "stdout"
        }
      ]
    },
    {
      "cell_type": "code",
      "metadata": {
        "id": "7NEXX_WO_Xc7",
        "colab_type": "code",
        "colab": {
          "base_uri": "https://localhost:8080/",
          "height": 50
        },
        "outputId": "020817c7-71fa-47e9-c693-623f9274539d"
      },
      "source": [
        "#15\n",
        "def longestpalindrome(s):\n",
        "    d=[[False for i in range(len(s))] for i in range(len(s))]\n",
        "    for i in range(len(s)):\n",
        "        d[i][i]=True\n",
        "    maxlen=1\n",
        "    start=0\n",
        "    for l in range(2,len(s)+1):\n",
        "        for i in range(len(s)-l+1):\n",
        "            end=i+l\n",
        "            if l==2:\n",
        "                if s[i]==s[end-1]:\n",
        "                    d[i][end-1]=True\n",
        "                    maxlen=l\n",
        "                    start=i\n",
        "            else:\n",
        "                if s[i]==s[end-1] and d[i+1][end-2]:\n",
        "                    d[i][end-1]=True\n",
        "                    maxlen=l\n",
        "                    start=i\n",
        "    return s[start:start+maxlen]\n",
        "s=input(\"Enter a string : \")\n",
        "print(longestpalindrome(s))"
      ],
      "execution_count": 1,
      "outputs": [
        {
          "output_type": "stream",
          "text": [
            "Enter a string : there are 121 malayalam speaking students in college\n",
            " malayalam \n"
          ],
          "name": "stdout"
        }
      ]
    },
    {
      "cell_type": "code",
      "metadata": {
        "id": "cHKP9PnYAiQ8",
        "colab_type": "code",
        "colab": {
          "base_uri": "https://localhost:8080/",
          "height": 67
        },
        "outputId": "c57aa184-dc55-4818-d110-544a2c33826a"
      },
      "source": [
        "#16\n",
        "a=input(\"enter string\")\n",
        "b=input(\"enter string\")\n",
        "if b in a:\n",
        "  print(\"1\")\n",
        "else:\n",
        "  print(\"0\")"
      ],
      "execution_count": 2,
      "outputs": [
        {
          "output_type": "stream",
          "text": [
            "enter string1010110010\n",
            "enter string0110\n",
            "1\n"
          ],
          "name": "stdout"
        }
      ]
    },
    {
      "cell_type": "code",
      "metadata": {
        "id": "6CHHA2Z2BwcS",
        "colab_type": "code",
        "colab": {
          "base_uri": "https://localhost:8080/",
          "height": 167
        },
        "outputId": "620347e3-23cf-40a0-99b0-b3b49d2677d0"
      },
      "source": [
        "#17\n",
        "def gcd(a,b):\n",
        "\n",
        "    if b==0: \n",
        "\n",
        "        return a \n",
        "\n",
        "    return gcd(b,a%b) \n",
        "\n",
        "def countsteps(a,b,c): \n",
        "\n",
        "    v1=b\n",
        "\n",
        "    v2=0\n",
        "\n",
        "    count=1\n",
        "\n",
        "    while ((v1 is not c) and (v2 is not c)): \n",
        "\n",
        "        temp=min(v1,a-v2) \n",
        "\n",
        "        v2=v2+temp \n",
        "\n",
        "        v1=v1-temp \n",
        "\n",
        "        count=count+1\n",
        "\n",
        "        if ((v2==c)or(v1==c)): \n",
        "\n",
        "            break\n",
        "\n",
        "        if v1==0: \n",
        "\n",
        "            v1=b \n",
        "\n",
        "            count=count+1\n",
        "\n",
        "        if v2==a: \n",
        "\n",
        "            v2=0\n",
        "\n",
        "            count=count+1\n",
        "\n",
        "    return count \n",
        "\n",
        "def ispossible(a,b,c): \n",
        "\n",
        "    if a>b: \n",
        "\n",
        "        temp=a \n",
        "\n",
        "        a=b \n",
        "\n",
        "        b=temp \n",
        "\n",
        "    if c>b: \n",
        "\n",
        "        return -1\n",
        "\n",
        "    if (c%(gcd(b,a)) is not 0): \n",
        "\n",
        "        return -1\n",
        "\n",
        "    return(min(countsteps(b,a,c),countsteps(a,b,c)))\n",
        "\n",
        "t=int(input(\"Enter no of testcases : \"))\n",
        "\n",
        "for i in range(t):\n",
        "\n",
        "  a=int(input(\"Enter capacity of vessel a : \"))\n",
        "\n",
        "  b=int(input(\"Enter capacity of vessel b : \"))\n",
        "\n",
        "  c=int(input(\"Enter capacity to be obtained :\"))\n",
        "\n",
        "  print(\"Minimum number of steps required is : \",ispossible(a,b,c))"
      ],
      "execution_count": 5,
      "outputs": [
        {
          "output_type": "stream",
          "text": [
            "Enter no of testcases : 2\n",
            "Enter capacity of vessel a : 5\n",
            "Enter capacity of vessel b : 2\n",
            "Enter capacity to be obtained :3\n",
            "Minimum number of steps required is :  2\n",
            "Enter capacity of vessel a : 2\n",
            "Enter capacity of vessel b : 3\n",
            "Enter capacity to be obtained :4\n",
            "Minimum number of steps required is :  -1\n"
          ],
          "name": "stdout"
        }
      ]
    },
    {
      "cell_type": "code",
      "metadata": {
        "id": "WnlVE74GNKo4",
        "colab_type": "code",
        "colab": {}
      },
      "source": [
        ""
      ],
      "execution_count": null,
      "outputs": []
    }
  ]
}
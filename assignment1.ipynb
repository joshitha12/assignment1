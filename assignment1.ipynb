{
  "nbformat": 4,
  "nbformat_minor": 0,
  "metadata": {
    "colab": {
      "name": "assignment1.ipynb",
      "provenance": [],
      "authorship_tag": "ABX9TyMCDImaua+ZZSazamKOrocm",
      "include_colab_link": true
    },
    "kernelspec": {
      "name": "python3",
      "display_name": "Python 3"
    }
  },
  "cells": [
    {
      "cell_type": "markdown",
      "metadata": {
        "id": "view-in-github",
        "colab_type": "text"
      },
      "source": [
        "<a href=\"https://colab.research.google.com/github/joshitha12/assignment1/blob/master/assignment1.ipynb\" target=\"_parent\"><img src=\"https://colab.research.google.com/assets/colab-badge.svg\" alt=\"Open In Colab\"/></a>"
      ]
    },
    {
      "cell_type": "code",
      "metadata": {
        "id": "Uo2G2PxpZP3N",
        "colab_type": "code",
        "colab": {
          "base_uri": "https://localhost:8080/",
          "height": 69
        },
        "outputId": "c6deb1f7-e056-493d-e3ed-ce741457cf03"
      },
      "source": [
        "d={0:\"monkey\",1:\"rooster\",2:\"dog\",3:\"pig\",4:\"rat\",5:\"ox\",6:\"tiger\",7:\"rabbit\",8:\"dragon\",9:\"snake\",10:\"horse\",11:\"sheep\"}\n",
        "x=int(input(\"enter year\"))\n",
        "y=x%12\n",
        "print(y)\n",
        "print(d[y])"
      ],
      "execution_count": null,
      "outputs": [
        {
          "output_type": "stream",
          "text": [
            "enter year2018\n",
            "2\n",
            "dog\n"
          ],
          "name": "stdout"
        }
      ]
    },
    {
      "cell_type": "code",
      "metadata": {
        "id": "Si5ZO9lcZf4o",
        "colab_type": "code",
        "colab": {
          "base_uri": "https://localhost:8080/",
          "height": 69
        },
        "outputId": "98087653-7d90-41ab-d8c3-8b186d119340"
      },
      "source": [
        "x=int(input(\"distance to be travelled\"))\n",
        "y=int(input(\"weight of the goods\"))\n",
        "if x >= 500 :\n",
        "  if y >=100 :\n",
        "    print(x*5)\n",
        "  elif (y>=10) and (y< 100) :\n",
        "    print(x*6)\n",
        "  else :\n",
        "    print(x*7)\n",
        "else :\n",
        "  if y>=100 :\n",
        "    print(x*8)\n",
        "  else :\n",
        "    print(x*5)"
      ],
      "execution_count": null,
      "outputs": [
        {
          "output_type": "stream",
          "text": [
            "distance to be travelled520\n",
            "weight of the goods50\n",
            "3120\n"
          ],
          "name": "stdout"
        }
      ]
    },
    {
      "cell_type": "code",
      "metadata": {
        "id": "gN_6KypFZsZm",
        "colab_type": "code",
        "colab": {
          "base_uri": "https://localhost:8080/",
          "height": 69
        },
        "outputId": "ee1f0e02-fb23-4abd-a6b0-aca0c07ae283"
      },
      "source": [
        "x=input(\"type of seat\")\n",
        "y=input(\"payment mode\")\n",
        "if x==\"stalls\" :\n",
        "  if y==\"cash\" :\n",
        "    print(625-625*0.10)\n",
        "  else :\n",
        "    print(625-625*0.05)\n",
        "elif x==\"circle\":\n",
        "  if y==\"cash\":\n",
        "    print(750-750*0.10)\n",
        "  else:\n",
        "    print(750-750*0.05)\n",
        "elif x==\"upper deck\":\n",
        "  if y==\"cash\":\n",
        "    print(850-850*0.10)\n",
        "  else:\n",
        "    print(850-850*0.05)\n",
        "else :\n",
        "  if y==\"cash\":\n",
        "    print(1000-1000*0.10)\n",
        "  else:\n",
        "    print(1000-1000*0.05)"
      ],
      "execution_count": null,
      "outputs": [
        {
          "output_type": "stream",
          "text": [
            "type of seatcircle\n",
            "payment modecash\n",
            "675.0\n"
          ],
          "name": "stdout"
        }
      ]
    },
    {
      "cell_type": "code",
      "metadata": {
        "id": "12169V0CZ5Uo",
        "colab_type": "code",
        "colab": {
          "base_uri": "https://localhost:8080/",
          "height": 87
        },
        "outputId": "57f45691-adc0-4dce-e981-66959053e3fb"
      },
      "source": [
        "M=int(input(\"enter quantity of water in kg\"))\n",
        "ft=int(input(\"enter final temp in celsius\"))\n",
        "lt=int(input(\"enter lower temp in celsius\"))\n",
        "Q=M*(ft-lt)*4184\n",
        "print(Q)"
      ],
      "execution_count": null,
      "outputs": [
        {
          "output_type": "stream",
          "text": [
            "enter quantity of water in kg2\n",
            "enter final temp in celsius100\n",
            "enter lower temp in celsius60\n",
            "334720\n"
          ],
          "name": "stdout"
        }
      ]
    },
    {
      "cell_type": "code",
      "metadata": {
        "id": "fdgATb8DaIN2",
        "colab_type": "code",
        "colab": {
          "base_uri": "https://localhost:8080/",
          "height": 52
        },
        "outputId": "3859ab9c-4e58-4fd8-e159-fed27c6f50b5"
      },
      "source": [
        "month=input(\"enter month\")\n",
        "if month==\"december\" or month==\"january\" or month==\"february\" :\n",
        "  print(\"winter\")\n",
        "elif month==\"june\" or month==\"july\" or month==\"august\":\n",
        "  print(\"summer\")\n",
        "elif month==\"march\" or month==\"april\" or month==\"may\":\n",
        "  print(\"spring\")\n",
        "else :\n",
        "  print(\"autumn\")"
      ],
      "execution_count": null,
      "outputs": [
        {
          "output_type": "stream",
          "text": [
            "enter monthjuly\n",
            "summer\n"
          ],
          "name": "stdout"
        }
      ]
    },
    {
      "cell_type": "code",
      "metadata": {
        "id": "ACZuUpyWaT4N",
        "colab_type": "code",
        "colab": {
          "base_uri": "https://localhost:8080/",
          "height": 69
        },
        "outputId": "7dd240bf-7a09-4fab-d0d8-7663f4c65487"
      },
      "source": [
        "x=float(input(\"enter weight in pounds\"))\n",
        "y=float(input(\"enter height in pounds\"))\n",
        "bmi=(x*0.45359237)/((y*0.0245)**2)\n",
        "print(bmi)"
      ],
      "execution_count": null,
      "outputs": [
        {
          "output_type": "stream",
          "text": [
            "enter weight in pounds5\n",
            "enter height in pounds3\n",
            "419.8180110139293\n"
          ],
          "name": "stdout"
        }
      ]
    },
    {
      "cell_type": "code",
      "metadata": {
        "id": "qYIzSygzabMM",
        "colab_type": "code",
        "colab": {
          "base_uri": "https://localhost:8080/",
          "height": 52
        },
        "outputId": "011a04ec-1523-4343-9b69-fe9547472101"
      },
      "source": [
        "n=int(input(\"enter a num b/w 100 to 1000\"))\n",
        "sum=0\n",
        "while(n) :\n",
        "  d=int(n%10)\n",
        "  sum=sum+d\n",
        "  n=int(n/10)\n",
        "print(sum)"
      ],
      "execution_count": null,
      "outputs": [
        {
          "output_type": "stream",
          "text": [
            "enter a num b/w 100 to 1000745\n",
            "16\n"
          ],
          "name": "stdout"
        }
      ]
    },
    {
      "cell_type": "code",
      "metadata": {
        "id": "morRaPHBahx2",
        "colab_type": "code",
        "colab": {
          "base_uri": "https://localhost:8080/",
          "height": 52
        },
        "outputId": "36020dd3-17b0-4357-c259-fa1ef0bca4fa"
      },
      "source": [
        "n=int(input(\"enter a num b/w 1 to 1000\"))\n",
        "sum=0\n",
        "temp=n\n",
        "while(n) :\n",
        "  d=int(n%10)\n",
        "  sum=sum*10+d\n",
        "  n=int(n/10)\n",
        "if sum==temp:\n",
        "  print(\"palindrome\")\n",
        "else:\n",
        "  print(\"not palindrome\")"
      ],
      "execution_count": null,
      "outputs": [
        {
          "output_type": "stream",
          "text": [
            "enter a num b/w 1 to 10009\n",
            "palindrome\n"
          ],
          "name": "stdout"
        }
      ]
    },
    {
      "cell_type": "code",
      "metadata": {
        "id": "suT3KNGiapG0",
        "colab_type": "code",
        "colab": {
          "base_uri": "https://localhost:8080/",
          "height": 52
        },
        "outputId": "b8b31b55-9bf1-439f-e793-9afe47a33469"
      },
      "source": [
        "n=int(input(\"enter a num b/w 1 to 1000\"))\n",
        "sum=0\n",
        "temp=n\n",
        "while(n) :\n",
        "  d=int(n%10)\n",
        "  sum=sum+pow(d,3)\n",
        "  n=int(n/10)\n",
        "if sum==temp:\n",
        "  print(\"armtrong number\")\n",
        "else:\n",
        "  print(\"not armstrong number\")"
      ],
      "execution_count": null,
      "outputs": [
        {
          "output_type": "stream",
          "text": [
            "enter a num b/w 1 to 1000153\n",
            "armtrong number\n"
          ],
          "name": "stdout"
        }
      ]
    },
    {
      "cell_type": "code",
      "metadata": {
        "id": "5b1D5GgSaw5w",
        "colab_type": "code",
        "colab": {
          "base_uri": "https://localhost:8080/",
          "height": 1000
        },
        "outputId": "bdcefb98-ad38-45bd-9754-4d91ca2f2246"
      },
      "source": [
        "for i in range(1,101):\n",
        "  if i%3==0 :\n",
        "    print(\"fizz\")\n",
        "  elif i%5==0 :\n",
        "    print(\"buzz\")\n",
        "  elif i%3==0 and i%5==0:\n",
        "    print(\"fizzbuzz\")\n",
        "  else:\n",
        "    print(i)\n",
        "  "
      ],
      "execution_count": null,
      "outputs": [
        {
          "output_type": "stream",
          "text": [
            "1\n",
            "2\n",
            "fizz\n",
            "4\n",
            "buzz\n",
            "fizz\n",
            "7\n",
            "8\n",
            "fizz\n",
            "buzz\n",
            "11\n",
            "fizz\n",
            "13\n",
            "14\n",
            "fizz\n",
            "16\n",
            "17\n",
            "fizz\n",
            "19\n",
            "buzz\n",
            "fizz\n",
            "22\n",
            "23\n",
            "fizz\n",
            "buzz\n",
            "26\n",
            "fizz\n",
            "28\n",
            "29\n",
            "fizz\n",
            "31\n",
            "32\n",
            "fizz\n",
            "34\n",
            "buzz\n",
            "fizz\n",
            "37\n",
            "38\n",
            "fizz\n",
            "buzz\n",
            "41\n",
            "fizz\n",
            "43\n",
            "44\n",
            "fizz\n",
            "46\n",
            "47\n",
            "fizz\n",
            "49\n",
            "buzz\n",
            "fizz\n",
            "52\n",
            "53\n",
            "fizz\n",
            "buzz\n",
            "56\n",
            "fizz\n",
            "58\n",
            "59\n",
            "fizz\n",
            "61\n",
            "62\n",
            "fizz\n",
            "64\n",
            "buzz\n",
            "fizz\n",
            "67\n",
            "68\n",
            "fizz\n",
            "buzz\n",
            "71\n",
            "fizz\n",
            "73\n",
            "74\n",
            "fizz\n",
            "76\n",
            "77\n",
            "fizz\n",
            "79\n",
            "buzz\n",
            "fizz\n",
            "82\n",
            "83\n",
            "fizz\n",
            "buzz\n",
            "86\n",
            "fizz\n",
            "88\n",
            "89\n",
            "fizz\n",
            "91\n",
            "92\n",
            "fizz\n",
            "94\n",
            "buzz\n",
            "fizz\n",
            "97\n",
            "98\n",
            "fizz\n",
            "buzz\n"
          ],
          "name": "stdout"
        }
      ]
    },
    {
      "cell_type": "code",
      "metadata": {
        "id": "T8n2ocF4a2Oj",
        "colab_type": "code",
        "colab": {
          "base_uri": "https://localhost:8080/",
          "height": 87
        },
        "outputId": "472782ce-9f9e-46e6-ee27-5ce09ea57c6b"
      },
      "source": [
        "h=int(input(\"enter the height of the well\"))\n",
        "u=int(input(\"enter meters it climbs up\"))\n",
        "d=int(input(\"enter meters it slips down\"))\n",
        "D=u-d\n",
        "H=h-u\n",
        "x=int(H/D+1)\n",
        "print(x)"
      ],
      "execution_count": null,
      "outputs": [
        {
          "output_type": "stream",
          "text": [
            "enter the height of the well200\n",
            "enter meters it climbs up50\n",
            "enter meters it slips down1\n",
            "4\n"
          ],
          "name": "stdout"
        }
      ]
    }
  ]
}